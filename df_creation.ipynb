{
 "cells": [
  {
   "cell_type": "code",
   "execution_count": 4,
   "metadata": {
    "executionInfo": {
     "elapsed": 1461,
     "status": "ok",
     "timestamp": 1735306952173,
     "user": {
      "displayName": "francesco marrocco",
      "userId": "16479437550886075001"
     },
     "user_tz": -60
    },
    "id": "zIEZ_KzgEX_U"
   },
   "outputs": [],
   "source": [
    "import json\n",
    "from tqdm import tqdm\n",
    "import pandas as pd\n",
    "import numpy as np\n",
    "import os"
   ]
  },
  {
   "cell_type": "code",
   "execution_count": 5,
   "metadata": {
    "executionInfo": {
     "elapsed": 13,
     "status": "ok",
     "timestamp": 1735306976328,
     "user": {
      "displayName": "francesco marrocco",
      "userId": "16479437550886075001"
     },
     "user_tz": -60
    },
    "id": "DyOwTtf4D4CA"
   },
   "outputs": [],
   "source": [
    "#Directory per Framar, Jimmy, Leo\n",
    "dir=r'C:\\Users\\frmar\\OneDrive\\Desktop\\GitHub\\Music-Recommender-System\\Spotify_Million\\data'"
   ]
  },
  {
   "cell_type": "code",
   "execution_count": 7,
   "metadata": {
    "colab": {
     "base_uri": "https://localhost:8080/"
    },
    "id": "KkKQEfV_FkdW",
    "outputId": "edc6cdb9-5303-497c-c543-9992505d6cb9"
   },
   "outputs": [
    {
     "name": "stderr",
     "output_type": "stream",
     "text": [
      "100%|██████████| 1000/1000 [09:05<00:00,  1.83it/s]\n"
     ]
    },
    {
     "name": "stdout",
     "output_type": "stream",
     "text": [
      "Processing completed. DataFrame saved to C:\\Users\\frmar\\OneDrive\\Desktop\\GitHub\\Music-Recommender-System\\playlists.csv.\n"
     ]
    }
   ],
   "source": [
    "# Initialize data structures for deduplication\n",
    "artists = {}\n",
    "albums = {}\n",
    "tracks = {}\n",
    "\n",
    "# Helper function to get or create IDs for deduplication\n",
    "def get_or_create_id(mapping, value):\n",
    "    if value not in mapping:\n",
    "        mapping[value] = len(mapping) + 1\n",
    "    return mapping[value]\n",
    "\n",
    "# Directory containing JSON files\n",
    "\n",
    "# Initialize an empty list for storing playlists as rows\n",
    "playlists_data = []\n",
    "\n",
    "for filename in tqdm(os.listdir(dir)):\n",
    "    if filename.endswith(\".json\"):\n",
    "        dir_file = os.path.join(dir, filename)\n",
    "        try:\n",
    "            with open(dir_file, \"r\") as json_file:\n",
    "                data = json.load(json_file)\n",
    "\n",
    "                for playlist in data.get(\"playlists\", []):\n",
    "                    playlist_tracks = []\n",
    "\n",
    "                    for track in playlist.get(\"tracks\", []):\n",
    "                        reduced_track = (\n",
    "                            track.get(\"pos\"),\n",
    "                            #\"tu\": track.get(\"track_uri\"),\n",
    "                            get_or_create_id(artists, track.get(\"artist_name\")),\n",
    "                            get_or_create_id(albums, track.get(\"album_name\")),\n",
    "                            get_or_create_id(tracks, track.get(\"track_name\")), \n",
    "                            track.get(\"duration_ms\") // 1000\n",
    "                        ) # (pos, artist_name, album_name, track_name and duration_ms)\n",
    "                        playlist_tracks.append(reduced_track)\n",
    "                        del reduced_track\n",
    "\n",
    "                    # Add the playlist to the dataframe structure\n",
    "                    playlists_data.append({\n",
    "                        \"user_id\": playlist.get(\"pid\"),\n",
    "                        \"name\": playlist.get(\"name\"),\n",
    "                        \"tracks\": playlist_tracks\n",
    "                    })\n",
    "                    del playlist_tracks\n",
    "\n",
    "        except json.JSONDecodeError as e:\n",
    "            print(f\"Error decoding JSON in file {filename}: {e}\")\n",
    "        except Exception as e:\n",
    "            print(f\"An error occurred while processing {filename}: {e}\")\n",
    "\n",
    "with open('artists.json', 'w') as artists_file:\n",
    "    json.dump(artists, artists_file, indent=4)\n",
    "\n",
    "with open('albums.json', 'w') as albums_file:\n",
    "    json.dump(albums, albums_file, indent=4)\n",
    "\n",
    "with open('tracks.json', 'w') as tracks_file:\n",
    "    json.dump(tracks, tracks_file, indent=4)\n",
    "\n",
    "del artists\n",
    "del albums\n",
    "del tracks \n",
    "\n",
    "# Convert playlists data to a Pandas DataFrame\n",
    "playlists_df = pd.DataFrame(playlists_data)\n",
    "\n",
    "del playlists_data\n",
    "\n",
    "# Save the DataFrame to a file\n",
    "output_dir = r'C:\\Users\\frmar\\OneDrive\\Desktop\\GitHub\\Music-Recommender-System'\n",
    "os.makedirs(output_dir, exist_ok=True)\n",
    "\n",
    "# Save as CSV instead of Parquet\n",
    "output_file = os.path.join(output_dir, \"playlists.csv\")\n",
    "playlists_df.to_csv(output_file, index=False)\n",
    "\n",
    "\n",
    "print(f\"Processing completed. DataFrame saved to {output_file}.\")\n"
   ]
  },
  {
   "cell_type": "code",
   "execution_count": 9,
   "metadata": {
    "colab": {
     "background_save": true,
     "base_uri": "https://localhost:8080/",
     "output_embedded_package_id": "1CPONV7RuPKeFV_KwnpYvkICsuN84QOdp"
    },
    "executionInfo": {
     "elapsed": 29287,
     "status": "ok",
     "timestamp": 1735306812825,
     "user": {
      "displayName": "francesco caperna",
      "userId": "07476526194478581668"
     },
     "user_tz": -60
    },
    "id": "UtAL9qMxV59M",
    "outputId": "1f576262-bab0-45c7-9b88-fe4a0e2abefc"
   },
   "outputs": [
    {
     "data": {
      "text/html": [
       "<div>\n",
       "<style scoped>\n",
       "    .dataframe tbody tr th:only-of-type {\n",
       "        vertical-align: middle;\n",
       "    }\n",
       "\n",
       "    .dataframe tbody tr th {\n",
       "        vertical-align: top;\n",
       "    }\n",
       "\n",
       "    .dataframe thead th {\n",
       "        text-align: right;\n",
       "    }\n",
       "</style>\n",
       "<table border=\"1\" class=\"dataframe\">\n",
       "  <thead>\n",
       "    <tr style=\"text-align: right;\">\n",
       "      <th></th>\n",
       "      <th>user_id</th>\n",
       "      <th>name</th>\n",
       "      <th>tracks</th>\n",
       "    </tr>\n",
       "  </thead>\n",
       "  <tbody>\n",
       "    <tr>\n",
       "      <th>0</th>\n",
       "      <td>0</td>\n",
       "      <td>Throwbacks</td>\n",
       "      <td>[(0, 1, 1, 1), (1, 2, 2, 2), (2, 3, 3, 3), (3,...</td>\n",
       "    </tr>\n",
       "    <tr>\n",
       "      <th>1</th>\n",
       "      <td>1</td>\n",
       "      <td>Awesome Playlist</td>\n",
       "      <td>[(0, 38, 45, 52), (1, 39, 46, 53), (2, 39, 46,...</td>\n",
       "    </tr>\n",
       "    <tr>\n",
       "      <th>2</th>\n",
       "      <td>2</td>\n",
       "      <td>korean</td>\n",
       "      <td>[(0, 59, 68, 91), (1, 60, 69, 92), (2, 61, 70,...</td>\n",
       "    </tr>\n",
       "    <tr>\n",
       "      <th>3</th>\n",
       "      <td>3</td>\n",
       "      <td>mat</td>\n",
       "      <td>[(0, 90, 119, 155), (1, 90, 120, 156), (2, 91,...</td>\n",
       "    </tr>\n",
       "    <tr>\n",
       "      <th>4</th>\n",
       "      <td>4</td>\n",
       "      <td>90s</td>\n",
       "      <td>[(0, 176, 226, 281), (1, 177, 227, 282), (2, 1...</td>\n",
       "    </tr>\n",
       "    <tr>\n",
       "      <th>...</th>\n",
       "      <td>...</td>\n",
       "      <td>...</td>\n",
       "      <td>...</td>\n",
       "    </tr>\n",
       "    <tr>\n",
       "      <th>999995</th>\n",
       "      <td>999995</td>\n",
       "      <td>Praise</td>\n",
       "      <td>[(0, 2287, 3711, 116657), (1, 820, 1993, 5783)...</td>\n",
       "    </tr>\n",
       "    <tr>\n",
       "      <th>999996</th>\n",
       "      <td>999996</td>\n",
       "      <td>Worship</td>\n",
       "      <td>[(0, 92000, 185884, 2260492), (1, 92000, 18588...</td>\n",
       "    </tr>\n",
       "    <tr>\n",
       "      <th>999997</th>\n",
       "      <td>999997</td>\n",
       "      <td>Sex</td>\n",
       "      <td>[(0, 1656, 2600, 39638), (1, 1606, 2574, 41138...</td>\n",
       "    </tr>\n",
       "    <tr>\n",
       "      <th>999998</th>\n",
       "      <td>999998</td>\n",
       "      <td>✝️</td>\n",
       "      <td>[(0, 638, 3672, 5768), (1, 2300, 3744, 5872), ...</td>\n",
       "    </tr>\n",
       "    <tr>\n",
       "      <th>999999</th>\n",
       "      <td>999999</td>\n",
       "      <td>BANDA</td>\n",
       "      <td>[(0, 4259, 7300, 12421), (1, 4259, 7299, 12518...</td>\n",
       "    </tr>\n",
       "  </tbody>\n",
       "</table>\n",
       "<p>1000000 rows × 3 columns</p>\n",
       "</div>"
      ],
      "text/plain": [
       "        user_id              name  \\\n",
       "0             0        Throwbacks   \n",
       "1             1  Awesome Playlist   \n",
       "2             2           korean    \n",
       "3             3               mat   \n",
       "4             4               90s   \n",
       "...         ...               ...   \n",
       "999995   999995            Praise   \n",
       "999996   999996           Worship   \n",
       "999997   999997               Sex   \n",
       "999998   999998                ✝️   \n",
       "999999   999999             BANDA   \n",
       "\n",
       "                                                   tracks  \n",
       "0       [(0, 1, 1, 1), (1, 2, 2, 2), (2, 3, 3, 3), (3,...  \n",
       "1       [(0, 38, 45, 52), (1, 39, 46, 53), (2, 39, 46,...  \n",
       "2       [(0, 59, 68, 91), (1, 60, 69, 92), (2, 61, 70,...  \n",
       "3       [(0, 90, 119, 155), (1, 90, 120, 156), (2, 91,...  \n",
       "4       [(0, 176, 226, 281), (1, 177, 227, 282), (2, 1...  \n",
       "...                                                   ...  \n",
       "999995  [(0, 2287, 3711, 116657), (1, 820, 1993, 5783)...  \n",
       "999996  [(0, 92000, 185884, 2260492), (1, 92000, 18588...  \n",
       "999997  [(0, 1656, 2600, 39638), (1, 1606, 2574, 41138...  \n",
       "999998  [(0, 638, 3672, 5768), (1, 2300, 3744, 5872), ...  \n",
       "999999  [(0, 4259, 7300, 12421), (1, 4259, 7299, 12518...  \n",
       "\n",
       "[1000000 rows x 3 columns]"
      ]
     },
     "execution_count": 9,
     "metadata": {},
     "output_type": "execute_result"
    }
   ],
   "source": [
    "playlists_df"
   ]
  }
 ],
 "metadata": {
  "colab": {
   "provenance": []
  },
  "kernelspec": {
   "display_name": "MRC",
   "language": "python",
   "name": "python3"
  },
  "language_info": {
   "codemirror_mode": {
    "name": "ipython",
    "version": 3
   },
   "file_extension": ".py",
   "mimetype": "text/x-python",
   "name": "python",
   "nbconvert_exporter": "python",
   "pygments_lexer": "ipython3",
   "version": "3.12.8"
  }
 },
 "nbformat": 4,
 "nbformat_minor": 0
}
